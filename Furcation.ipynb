{
  "cells": [
    {
      "cell_type": "markdown",
      "metadata": {},
      "source": [
        "# BASE DATA LOADING "
      ]
    },
    {
      "cell_type": "markdown",
      "metadata": {},
      "source": [
        "# AUGMENTED DATA LOADING"
      ]
    },
    {
      "cell_type": "code",
      "execution_count": 8,
      "metadata": {},
      "outputs": [],
      "source": [
        "import json\n",
        "import numpy as np\n",
        "import cv2\n",
        "import os\n",
        "from glob import glob\n",
        "# from utils import *\n",
        "import tensorflow as tf\n",
        "from tensorflow import keras \n",
        "from keras.models import Sequential\n",
        "from keras.models import Model\n",
        "from keras.callbacks import ModelCheckpoint, LearningRateScheduler, EarlyStopping, ReduceLROnPlateau, TensorBoard\n",
        "from keras import optimizers, losses, activations, models\n",
        "from keras.layers import Convolution2D, Dense, Input, Flatten, Dropout, MaxPooling2D, BatchNormalization, GlobalAveragePooling2D, Concatenate\n",
        "from tensorflow.keras import applications\n",
        "from tensorflow.keras.optimizers import Adam\n"
      ]
    },
    {
      "cell_type": "code",
      "execution_count": 9,
      "metadata": {},
      "outputs": [],
      "source": [
        "x  = np.load(\"aug_images_train.npy\")\n",
        "Labels = np.load(\"aug_label_train.npy\")"
      ]
    },
    {
      "cell_type": "code",
      "execution_count": 10,
      "metadata": {},
      "outputs": [],
      "source": [
        "X_train , X_test, y_train , y_test = x ,np.load(\"./data/test_image.npy\") , Labels , np.load(\"./data/test_label.npy\")"
      ]
    },
    {
      "cell_type": "code",
      "execution_count": 11,
      "metadata": {},
      "outputs": [],
      "source": [
        "normal_imgss = [np.dstack((X_test[i], X_test[i], X_test[i])) for i in range(0,len(X_test))]\n",
        "# imgss = [np.stack((imgs[i], imgs[i], imgs[i]), axis=2) for i in range(0,len(imgs_test))]\n",
        "X_test = np.array(normal_imgss)"
      ]
    },
    {
      "cell_type": "code",
      "execution_count": 12,
      "metadata": {},
      "outputs": [],
      "source": [
        "from tensorflow.keras.utils import to_categorical\n",
        "\n",
        "y_train = to_categorical(y_train)"
      ]
    },
    {
      "cell_type": "markdown",
      "metadata": {},
      "source": [
        "# INCEPTION"
      ]
    },
    {
      "cell_type": "code",
      "execution_count": 20,
      "metadata": {
        "colab": {
          "base_uri": "https://localhost:8080/"
        },
        "id": "bE4nAM3dT6_x",
        "outputId": "4896140f-1839-429f-9698-b15aea01fdaf"
      },
      "outputs": [
        {
          "name": "stdout",
          "output_type": "stream",
          "text": [
            "Model: \"sequential_1\"\n",
            "_________________________________________________________________\n",
            " Layer (type)                Output Shape              Param #   \n",
            "=================================================================\n",
            " inception_v3 (Functional)   (None, 2, 2, 2048)        21802784  \n",
            "                                                                 \n",
            " flatten_1 (Flatten)         (None, 8192)              0         \n",
            "                                                                 \n",
            " batch_normalization_192 (Ba  (None, 8192)             32768     \n",
            " tchNormalization)                                               \n",
            "                                                                 \n",
            " dense_4 (Dense)             (None, 1024)              8389632   \n",
            "                                                                 \n",
            " dropout_3 (Dropout)         (None, 1024)              0         \n",
            "                                                                 \n",
            " batch_normalization_193 (Ba  (None, 1024)             4096      \n",
            " tchNormalization)                                               \n",
            "                                                                 \n",
            " dense_5 (Dense)             (None, 256)               262400    \n",
            "                                                                 \n",
            " dropout_4 (Dropout)         (None, 256)               0         \n",
            "                                                                 \n",
            " batch_normalization_194 (Ba  (None, 256)              1024      \n",
            " tchNormalization)                                               \n",
            "                                                                 \n",
            " dense_6 (Dense)             (None, 64)                16448     \n",
            "                                                                 \n",
            " dropout_5 (Dropout)         (None, 64)                0         \n",
            "                                                                 \n",
            " batch_normalization_195 (Ba  (None, 64)               256       \n",
            " tchNormalization)                                               \n",
            "                                                                 \n",
            " dense_7 (Dense)             (None, 4)                 260       \n",
            "                                                                 \n",
            "=================================================================\n",
            "Total params: 30,509,668\n",
            "Trainable params: 8,687,812\n",
            "Non-trainable params: 21,821,856\n",
            "_________________________________________________________________\n"
          ]
        }
      ],
      "source": [
        "dim = 128\n",
        "input_shape = (dim,dim, 3)\n",
        "nclass = 4\n",
        "\n",
        "base_model = applications.InceptionV3(weights='imagenet', \n",
        "                                include_top=False, \n",
        "                                input_shape=(dim,dim,3))\n",
        "base_model.trainable = False\n",
        "\n",
        "add_model = Sequential()\n",
        "add_model.add(base_model)\n",
        "add_model.add(keras.layers.Flatten())\n",
        "add_model.add(keras.layers.BatchNormalization())\n",
        "add_model.add(keras.layers.Dense(1024, activation='relu'))\n",
        "add_model.add(keras.layers.Dropout(0.5))\n",
        "add_model.add(keras.layers.BatchNormalization())\n",
        "add_model.add(keras.layers.Dense(256, activation='relu'))\n",
        "add_model.add(keras.layers.Dropout(0.5))\n",
        "add_model.add(keras.layers.BatchNormalization())\n",
        "add_model.add(keras.layers.Dense(64, activation='relu'))\n",
        "add_model.add(keras.layers.Dropout(0.5))\n",
        "add_model.add(keras.layers.BatchNormalization())\n",
        "add_model.add(Dense(nclass, activation='softmax'))\n",
        "\n",
        "model = add_model\n",
        "model.compile(optimizer = Adam(learning_rate=0.0001,beta_1=0.95,beta_2=0.9996,epsilon=1e-08) ,loss='categorical_crossentropy', metrics=['accuracy'])\n",
        "model.summary()"
      ]
    },
    {
      "cell_type": "code",
      "execution_count": 21,
      "metadata": {},
      "outputs": [],
      "source": [
        "from tensorflow.keras.callbacks import ModelCheckpoint, ReduceLROnPlateau\n",
        "from livelossplot import PlotLossesKerasTF\n",
        "\n",
        "reduce_lr = ReduceLROnPlateau(monitor='val_loss', factor=0.1,\n",
        "                              patience=2, min_lr=0.0002, mode='min')\n",
        "# checkpoint = ModelCheckpoint(\"resnet_v250\", monitor='val_accuracy',\n",
        "#                              save_weights_only=True, mode='max', verbose=1)\n",
        "earlyStop = EarlyStopping(\n",
        "    monitor='val_loss',\n",
        "    patience=8,\n",
        "    verbose=1,\n",
        "    mode='auto',\n",
        "    restore_best_weights=True,\n",
        ")\n",
        "callbacks = [PlotLossesKerasTF(), reduce_lr, earlyStop]"
      ]
    },
    {
      "cell_type": "code",
      "execution_count": 22,
      "metadata": {
        "colab": {
          "base_uri": "https://localhost:8080/"
        },
        "id": "2kfFH4WQULcI",
        "outputId": "e9cab750-cbb5-4300-a5eb-951802a67999"
      },
      "outputs": [
        {
          "data": {
            "image/png": "[encoded data removed]",
            "text/plain": [
              "<Figure size 864x576 with 2 Axes>"
            ]
          },
          "metadata": {
            "needs_background": "light"
          },
          "output_type": "display_data"
        },
        {
          "name": "stdout",
          "output_type": "stream",
          "text": [
            "accuracy\n",
            "\ttraining         \t (min:    0.260, max:    0.948, cur:    0.935)\n",
            "\tvalidation       \t (min:    0.340, max:    0.985, cur:    0.982)\n",
            "Loss\n",
            "\ttraining         \t (min:    0.162, max:    1.902, cur:    0.195)\n",
            "\tvalidation       \t (min:    0.049, max:    1.519, cur:    0.052)\n",
            "89/89 [==============================] - 5s 54ms/step - loss: 0.1953 - accuracy: 0.9345 - val_loss: 0.0522 - val_accuracy: 0.9817 - lr: 1.0000e-04\n"
          ]
        }
      ],
      "source": [
        "history = model.fit(X_train,y_train,batch_size = 32,\n",
        "                              epochs=100, \n",
        "                              shuffle=True, \n",
        "                              verbose=True,\n",
        "                              validation_split=0.2,\n",
        "                              callbacks=callbacks,\n",
        "                              )"
      ]
    },
    {
      "cell_type": "code",
      "execution_count": 23,
      "metadata": {},
      "outputs": [],
      "source": [
        "import matplotlib.pyplot as plt "
      ]
    },
    {
      "cell_type": "code",
      "execution_count": 24,
      "metadata": {},
      "outputs": [
        {
          "data": {
            "image/png": "[encoded data removed]",
            "text/plain": [
              "<Figure size 432x288 with 1 Axes>"
            ]
          },
          "metadata": {
            "needs_background": "light"
          },
          "output_type": "display_data"
        }
      ],
      "source": [
        "plt.plot(history.history['loss'])\n",
        "plt.plot(history.history['val_loss'])\n",
        "plt.title('model loss')\n",
        "plt.ylabel('loss')\n",
        "plt.xlabel('epoch')\n",
        "plt.legend(['train', 'val'], loc='upper left')\n",
        "plt.show()"
      ]
    },
    {
      "cell_type": "code",
      "execution_count": 25,
      "metadata": {
        "id": "JJ3Cipv4U-rB"
      },
      "outputs": [
        {
          "name": "stdout",
          "output_type": "stream",
          "text": [
            "WARNING:tensorflow:AutoGraph could not transform <function trace_model_call.<locals>._wrapped_model at 0x7ff50810c940> and will run it as-is.\n",
            "Please report this to the TensorFlow team. When filing the bug, set the verbosity to 10 (on Linux, `export AUTOGRAPH_VERBOSITY=10`) and attach the full output.\n",
            "Cause: module 'gast' has no attribute 'Constant'\n",
            "To silence this warning, decorate the function with @tf.autograph.experimental.do_not_convert\n",
            "WARNING: AutoGraph could not transform <function trace_model_call.<locals>._wrapped_model at 0x7ff50810c940> and will run it as-is.\n",
            "Please report this to the TensorFlow team. When filing the bug, set the verbosity to 10 (on Linux, `export AUTOGRAPH_VERBOSITY=10`) and attach the full output.\n",
            "Cause: module 'gast' has no attribute 'Constant'\n",
            "To silence this warning, decorate the function with @tf.autograph.experimental.do_not_convert\n",
            "WARNING:tensorflow:AutoGraph could not transform <function canonicalize_signatures.<locals>.signature_wrapper at 0x7ff60dce5280> and will run it as-is.\n",
            "Please report this to the TensorFlow team. When filing the bug, set the verbosity to 10 (on Linux, `export AUTOGRAPH_VERBOSITY=10`) and attach the full output.\n",
            "Cause: module 'gast' has no attribute 'Constant'\n",
            "To silence this warning, decorate the function with @tf.autograph.experimental.do_not_convert\n",
            "WARNING: AutoGraph could not transform <function canonicalize_signatures.<locals>.signature_wrapper at 0x7ff60dce5280> and will run it as-is.\n",
            "Please report this to the TensorFlow team. When filing the bug, set the verbosity to 10 (on Linux, `export AUTOGRAPH_VERBOSITY=10`) and attach the full output.\n",
            "Cause: module 'gast' has no attribute 'Constant'\n",
            "To silence this warning, decorate the function with @tf.autograph.experimental.do_not_convert\n",
            "INFO:tensorflow:Assets written to: saved_model/inceptionv3/assets\n"
          ]
        }
      ],
      "source": [
        "model.save(\"saved_model/inceptionv3\")"
      ]
    },
    {
      "cell_type": "code",
      "execution_count": 13,
      "metadata": {},
      "outputs": [
        {
          "data": {
            "text/plain": [
              "(3552, 128, 128, 3)"
            ]
          },
          "execution_count": 13,
          "metadata": {},
          "output_type": "execute_result"
        }
      ],
      "source": [
        "x.shape "
      ]
    },
    {
      "cell_type": "code",
      "execution_count": 14,
      "metadata": {},
      "outputs": [],
      "source": [
        "from tensorflow import keras\n",
        "model = keras.models.load_model('saved_model/inceptionv3')"
      ]
    },
    {
      "cell_type": "code",
      "execution_count": 15,
      "metadata": {},
      "outputs": [
        {
          "name": "stdout",
          "output_type": "stream",
          "text": [
            "WARNING:tensorflow:AutoGraph could not transform <function Model.make_predict_function.<locals>.predict_function at 0x7f312784b790> and will run it as-is.\n",
            "Please report this to the TensorFlow team. When filing the bug, set the verbosity to 10 (on Linux, `export AUTOGRAPH_VERBOSITY=10`) and attach the full output.\n",
            "Cause: module 'gast' has no attribute 'Constant'\n",
            "To silence this warning, decorate the function with @tf.autograph.experimental.do_not_convert\n",
            "WARNING: AutoGraph could not transform <function Model.make_predict_function.<locals>.predict_function at 0x7f312784b790> and will run it as-is.\n",
            "Please report this to the TensorFlow team. When filing the bug, set the verbosity to 10 (on Linux, `export AUTOGRAPH_VERBOSITY=10`) and attach the full output.\n",
            "Cause: module 'gast' has no attribute 'Constant'\n",
            "To silence this warning, decorate the function with @tf.autograph.experimental.do_not_convert\n"
          ]
        }
      ],
      "source": [
        "y_pred = model.predict(X_test)"
      ]
    },
    {
      "cell_type": "code",
      "execution_count": 16,
      "metadata": {},
      "outputs": [
        {
          "data": {
            "text/plain": [
              "array([[0., 0., 1., 0.],\n",
              "       [0., 0., 1., 0.],\n",
              "       [0., 0., 1., 0.],\n",
              "       ...,\n",
              "       [0., 0., 1., 0.],\n",
              "       [0., 0., 0., 1.],\n",
              "       [0., 0., 1., 0.]], dtype=float32)"
            ]
          },
          "execution_count": 16,
          "metadata": {},
          "output_type": "execute_result"
        }
      ],
      "source": [
        "y_train"
      ]
    },
    {
      "cell_type": "code",
      "execution_count": 17,
      "metadata": {},
      "outputs": [
        {
          "data": {
            "text/plain": [
              "array([[3.63662170e-04, 1.50955253e-04, 9.99095917e-01, 3.89405584e-04],\n",
              "       [3.03044647e-01, 9.32799280e-03, 6.81481540e-01, 6.14577299e-03],\n",
              "       [7.06833482e-01, 2.68696666e-01, 1.39468173e-02, 1.05230128e-02],\n",
              "       [5.38900355e-03, 4.11113724e-03, 9.87009406e-01, 3.49040492e-03],\n",
              "       [9.22906160e-01, 1.21054612e-02, 4.44095358e-02, 2.05787495e-02],\n",
              "       [2.04810109e-02, 9.14314091e-01, 2.44541354e-02, 4.07507643e-02],\n",
              "       [4.60412027e-03, 3.28770746e-03, 9.88993943e-01, 3.11423535e-03],\n",
              "       [6.25734687e-01, 8.73707011e-02, 2.79997200e-01, 6.89737312e-03],\n",
              "       [7.38196611e-01, 9.37803462e-02, 1.62151173e-01, 5.87187149e-03],\n",
              "       [5.87661564e-03, 7.15047002e-01, 1.44433053e-02, 2.64633060e-01],\n",
              "       [1.17217422e-01, 3.79907675e-02, 8.33171487e-01, 1.16203139e-02],\n",
              "       [6.64400449e-03, 9.66293216e-01, 2.49782410e-02, 2.08448269e-03],\n",
              "       [2.98148114e-02, 9.38749790e-01, 2.85275932e-02, 2.90781143e-03],\n",
              "       [1.68049737e-04, 9.99589264e-01, 8.62844390e-05, 1.56422218e-04],\n",
              "       [2.21134140e-03, 9.95657206e-01, 1.71821367e-03, 4.13295726e-04],\n",
              "       [9.61319804e-02, 1.89593639e-02, 8.72545481e-01, 1.23631814e-02],\n",
              "       [1.39054377e-03, 1.14557631e-02, 9.84477401e-01, 2.67620524e-03],\n",
              "       [3.29066753e-01, 6.30347282e-02, 5.97125113e-01, 1.07734101e-02],\n",
              "       [7.86173344e-02, 5.22001274e-02, 8.61651301e-01, 7.53115397e-03],\n",
              "       [4.79834795e-01, 3.96984816e-01, 8.80867690e-02, 3.50935347e-02],\n",
              "       [6.09198702e-04, 9.91088271e-01, 4.20822389e-03, 4.09435341e-03],\n",
              "       [1.04565488e-03, 4.79917414e-03, 9.92110670e-01, 2.04456341e-03],\n",
              "       [2.23003253e-02, 1.28635783e-02, 9.46310699e-01, 1.85253825e-02],\n",
              "       [9.98048782e-01, 1.56785944e-03, 2.09308637e-04, 1.74081375e-04],\n",
              "       [4.96885215e-04, 9.97489214e-01, 5.08818885e-05, 1.96296675e-03],\n",
              "       [3.31539735e-02, 8.39549661e-01, 1.21434048e-01, 5.86229190e-03],\n",
              "       [1.98112223e-02, 8.02408516e-01, 1.60519660e-01, 1.72606651e-02],\n",
              "       [2.45679083e-04, 9.97699440e-01, 1.39283750e-03, 6.61965052e-04],\n",
              "       [1.30393659e-03, 9.93437350e-01, 4.90677310e-03, 3.51953262e-04],\n",
              "       [6.07795455e-02, 8.13592039e-03, 9.18921292e-01, 1.21632833e-02],\n",
              "       [3.94743420e-02, 1.33915737e-01, 8.17006111e-01, 9.60378721e-03],\n",
              "       [3.88074189e-01, 3.27711672e-01, 2.75027156e-01, 9.18696169e-03],\n",
              "       [2.27377359e-02, 2.05016479e-01, 7.58960247e-01, 1.32855130e-02],\n",
              "       [9.21870947e-01, 4.50516231e-02, 5.13462629e-03, 2.79428307e-02],\n",
              "       [2.60712137e-03, 4.38506575e-03, 9.91178572e-01, 1.82919868e-03],\n",
              "       [9.65617418e-01, 1.48896473e-02, 1.74952634e-02, 1.99770252e-03],\n",
              "       [1.26196840e-03, 9.96416926e-01, 1.84591953e-03, 4.75148147e-04],\n",
              "       [9.11061540e-02, 6.39287591e-01, 1.11790687e-01, 1.57815561e-01],\n",
              "       [5.96291013e-03, 9.87309158e-01, 6.08124258e-03, 6.46735542e-04],\n",
              "       [4.61975008e-01, 5.34399390e-01, 1.11541757e-03, 2.51019583e-03],\n",
              "       [3.22449863e-01, 2.83936597e-02, 6.31575584e-01, 1.75808556e-02],\n",
              "       [2.76487065e-03, 3.23607065e-02, 9.42536414e-01, 2.23380327e-02],\n",
              "       [2.38921627e-01, 6.58691861e-04, 7.57076383e-01, 3.34321521e-03],\n",
              "       [1.41405985e-02, 3.39715421e-01, 5.22012234e-01, 1.24131732e-01],\n",
              "       [5.16247889e-03, 9.29510474e-01, 6.26369789e-02, 2.69011362e-03],\n",
              "       [5.84344752e-03, 9.49198246e-01, 4.16629128e-02, 3.29531357e-03],\n",
              "       [4.10135649e-03, 9.80151057e-01, 1.41600333e-02, 1.58758275e-03],\n",
              "       [2.80225947e-02, 7.80485868e-01, 1.83474436e-01, 8.01707897e-03],\n",
              "       [9.67296243e-01, 1.60329137e-02, 1.92658242e-03, 1.47441756e-02],\n",
              "       [7.22987771e-01, 1.44433090e-02, 2.53698528e-01, 8.87045544e-03],\n",
              "       [5.27000055e-03, 3.62234786e-02, 9.44527984e-01, 1.39784999e-02],\n",
              "       [2.79784808e-03, 9.95749950e-01, 6.39665290e-04, 8.12534185e-04],\n",
              "       [7.13980719e-02, 7.25115314e-02, 8.41326833e-01, 1.47635546e-02],\n",
              "       [6.98276162e-01, 8.77664331e-03, 2.84220994e-01, 8.72620102e-03],\n",
              "       [1.33804986e-02, 7.22826421e-02, 9.07604575e-01, 6.73231203e-03],\n",
              "       [4.37964173e-03, 8.51221025e-01, 8.56003612e-02, 5.87990098e-02],\n",
              "       [2.11940426e-03, 9.92322385e-01, 3.82650760e-03, 1.73177919e-03],\n",
              "       [8.36400539e-02, 8.89162779e-01, 2.23672129e-02, 4.82995482e-03],\n",
              "       [3.34869511e-02, 8.78134966e-02, 8.71140897e-01, 7.55858002e-03],\n",
              "       [3.20965238e-02, 1.25302583e-01, 8.10415089e-01, 3.21858339e-02],\n",
              "       [8.55737254e-02, 6.62046254e-01, 8.72288346e-02, 1.65151253e-01],\n",
              "       [2.61736073e-04, 9.98201847e-01, 1.11591816e-03, 4.20394499e-04],\n",
              "       [1.01028822e-01, 7.62452707e-02, 8.13613534e-01, 9.11230035e-03],\n",
              "       [2.86550913e-02, 9.42349970e-01, 1.73132308e-02, 1.16817234e-02],\n",
              "       [3.35146748e-02, 3.73165607e-02, 8.89734089e-01, 3.94347087e-02],\n",
              "       [6.79847524e-02, 9.27310996e-03, 8.88661265e-01, 3.40808630e-02],\n",
              "       [1.30166288e-03, 7.76208006e-04, 9.96968925e-01, 9.53270937e-04],\n",
              "       [3.80288507e-03, 1.41687989e-01, 8.41851115e-01, 1.26579944e-02],\n",
              "       [7.34278798e-01, 1.62260607e-02, 2.43538409e-01, 5.95673174e-03],\n",
              "       [2.69827840e-04, 2.28956142e-05, 9.98411775e-01, 1.29556225e-03],\n",
              "       [1.81649458e-02, 1.83054194e-01, 7.93801427e-01, 4.97942325e-03],\n",
              "       [1.12726307e-02, 3.89900221e-03, 9.80494738e-01, 4.33363812e-03],\n",
              "       [5.40407281e-03, 6.00390427e-04, 9.92335856e-01, 1.65973604e-03],\n",
              "       [1.40219107e-01, 2.42399471e-03, 8.23624730e-01, 3.37321945e-02],\n",
              "       [2.22830669e-04, 9.96645153e-01, 1.30691996e-03, 1.82496593e-03],\n",
              "       [1.24805495e-02, 1.01115890e-02, 1.46787584e-01, 8.30620289e-01],\n",
              "       [2.87085921e-01, 4.44039047e-01, 2.57731050e-01, 1.11440253e-02],\n",
              "       [8.72514904e-01, 1.21213228e-01, 1.43485016e-03, 4.83695138e-03],\n",
              "       [1.04557199e-03, 7.32337998e-04, 9.97451603e-01, 7.70480896e-04],\n",
              "       [1.05429126e-03, 9.97723758e-01, 7.41751865e-04, 4.80250194e-04],\n",
              "       [3.62522760e-03, 9.89177644e-01, 1.46503455e-03, 5.73215913e-03],\n",
              "       [3.53755313e-03, 5.76538667e-02, 7.42458913e-04, 9.38066185e-01],\n",
              "       [3.16136726e-03, 7.89126277e-01, 2.01639786e-01, 6.07258361e-03],\n",
              "       [7.35145947e-03, 6.05733367e-04, 9.88914669e-01, 3.12819402e-03],\n",
              "       [9.88063991e-01, 5.49039012e-03, 4.98731527e-03, 1.45836896e-03],\n",
              "       [9.40828472e-02, 1.36008844e-01, 7.59202003e-01, 1.07063362e-02],\n",
              "       [3.29189837e-01, 7.31376326e-03, 5.99737406e-01, 6.37590215e-02],\n",
              "       [1.35817928e-02, 9.95340088e-05, 9.85019028e-01, 1.29959837e-03],\n",
              "       [7.22504593e-03, 1.09916799e-01, 8.65526378e-01, 1.73318032e-02],\n",
              "       [1.55120835e-01, 7.10949395e-03, 8.27600658e-01, 1.01690516e-02],\n",
              "       [9.66895663e-04, 9.94570792e-01, 3.17457039e-03, 1.28770177e-03],\n",
              "       [6.88302051e-03, 9.88733888e-01, 2.18242360e-03, 2.20068730e-03],\n",
              "       [5.55746742e-02, 9.36211348e-01, 7.18109077e-03, 1.03288586e-03],\n",
              "       [1.44122377e-01, 1.62454359e-02, 8.31828177e-01, 7.80399144e-03],\n",
              "       [4.42547590e-01, 6.99189752e-02, 4.74986911e-01, 1.25464667e-02],\n",
              "       [1.20259123e-03, 9.94235337e-01, 1.24305952e-04, 4.43769014e-03],\n",
              "       [2.42456347e-02, 4.67907153e-02, 8.68540585e-01, 6.04231209e-02],\n",
              "       [2.52256490e-04, 9.98333871e-01, 7.73485808e-04, 6.40315528e-04],\n",
              "       [2.38921627e-01, 6.58691861e-04, 7.57076383e-01, 3.34321521e-03],\n",
              "       [9.54509887e-04, 2.71370140e-04, 9.97947633e-01, 8.26494419e-04],\n",
              "       [2.29790504e-03, 6.44091400e-04, 1.41002703e-03, 9.95647967e-01],\n",
              "       [5.13508171e-03, 2.06070915e-02, 9.72441614e-01, 1.81615108e-03],\n",
              "       [2.03319596e-05, 9.99869823e-01, 4.22226367e-05, 6.75697156e-05],\n",
              "       [1.51701551e-03, 3.44626186e-03, 9.93596435e-01, 1.44028175e-03],\n",
              "       [9.98443902e-01, 8.12659739e-04, 3.57615121e-04, 3.85822321e-04],\n",
              "       [7.78898946e-04, 1.90924911e-03, 9.96257424e-01, 1.05442619e-03],\n",
              "       [7.48016313e-02, 1.17853135e-02, 9.05386627e-01, 8.02642573e-03],\n",
              "       [9.94936109e-01, 1.73257582e-03, 2.02904525e-03, 1.30226475e-03],\n",
              "       [4.72928211e-02, 5.15335472e-03, 8.49287331e-01, 9.82664526e-02],\n",
              "       [8.07753939e-04, 2.23299037e-04, 9.97140169e-01, 1.82878238e-03],\n",
              "       [1.66058354e-02, 9.80127573e-01, 5.16429835e-04, 2.75019789e-03],\n",
              "       [6.75540476e-04, 1.59649542e-04, 1.03974812e-01, 8.95190001e-01],\n",
              "       [4.31925431e-02, 1.04383500e-02, 8.93347502e-01, 5.30215725e-02],\n",
              "       [1.06583730e-05, 3.14475233e-06, 9.99704897e-01, 2.81238317e-04],\n",
              "       [1.90187078e-02, 8.96992683e-02, 8.83309305e-01, 7.97278434e-03],\n",
              "       [7.07336562e-03, 4.06841263e-02, 9.48555470e-01, 3.68713052e-03],\n",
              "       [2.82674074e-01, 6.79277658e-01, 3.07009406e-02, 7.34735560e-03],\n",
              "       [2.92647779e-02, 9.38702226e-01, 1.61266085e-02, 1.59064438e-02],\n",
              "       [5.03921602e-03, 8.79433763e-04, 9.87633228e-01, 6.44807378e-03],\n",
              "       [3.64483863e-01, 9.65464190e-02, 5.24520934e-01, 1.44487703e-02],\n",
              "       [9.08286311e-04, 9.84612942e-01, 5.96944522e-03, 8.50935560e-03],\n",
              "       [2.42144379e-04, 9.99069631e-01, 2.37696513e-04, 4.50582680e-04],\n",
              "       [3.66589776e-03, 9.69974041e-01, 1.74715500e-02, 8.88844393e-03],\n",
              "       [4.85450774e-03, 1.63243245e-02, 7.97888637e-02, 8.99032295e-01],\n",
              "       [8.48663412e-03, 2.66923547e-01, 3.19877826e-02, 6.92602098e-01],\n",
              "       [5.90640485e-01, 3.86949599e-01, 7.73480395e-03, 1.46751264e-02],\n",
              "       [2.45941132e-02, 3.53809595e-01, 6.11905515e-01, 9.69073828e-03],\n",
              "       [1.53103436e-04, 9.99612272e-01, 5.70335287e-05, 1.77630194e-04],\n",
              "       [4.81753331e-03, 8.73246551e-01, 1.18319713e-01, 3.61627829e-03],\n",
              "       [6.52913600e-02, 6.88474551e-02, 8.53769422e-01, 1.20917792e-02],\n",
              "       [6.32285932e-03, 1.07952230e-01, 8.82751644e-01, 2.97319121e-03],\n",
              "       [3.06904229e-04, 9.97891009e-01, 1.37207983e-03, 4.29955049e-04],\n",
              "       [3.54151987e-03, 4.09217887e-02, 8.55199039e-01, 1.00337654e-01],\n",
              "       [1.37322745e-03, 5.26391761e-03, 9.88656819e-01, 4.70608333e-03],\n",
              "       [1.58545926e-01, 3.58687609e-01, 4.28987026e-01, 5.37794046e-02],\n",
              "       [6.05369266e-03, 9.46347952e-01, 3.66079286e-02, 1.09904353e-02],\n",
              "       [5.10314479e-02, 3.42459679e-01, 4.15432155e-02, 5.64965606e-01],\n",
              "       [5.68905671e-04, 9.98006523e-01, 8.15229490e-04, 6.09292591e-04],\n",
              "       [1.07846307e-02, 9.79293108e-01, 7.68758170e-03, 2.23465287e-03],\n",
              "       [8.75275731e-02, 8.51457596e-01, 2.25172397e-02, 3.84974927e-02],\n",
              "       [9.89627123e-01, 2.14432529e-03, 6.93180272e-03, 1.29677367e-03],\n",
              "       [9.97675240e-01, 7.69840495e-04, 1.00260403e-03, 5.52364567e-04],\n",
              "       [2.34161556e-01, 8.62832591e-02, 6.44332409e-01, 3.52228135e-02],\n",
              "       [6.10202923e-02, 2.67205713e-03, 9.27864969e-01, 8.44266824e-03],\n",
              "       [1.55550301e-01, 9.67675820e-02, 7.34409392e-01, 1.32726533e-02],\n",
              "       [2.51672566e-01, 7.34766852e-03, 6.99947655e-01, 4.10321914e-02],\n",
              "       [1.83551032e-02, 9.78136241e-01, 1.73875212e-03, 1.76996586e-03],\n",
              "       [3.15077789e-03, 6.42642826e-02, 9.28876162e-01, 3.70879378e-03],\n",
              "       [1.34155583e-02, 7.35271156e-01, 2.21641541e-01, 2.96717286e-02],\n",
              "       [8.63279623e-04, 9.91188407e-01, 1.02336227e-04, 7.84594193e-03],\n",
              "       [1.30605502e-02, 4.69793472e-03, 9.78064179e-01, 4.17733192e-03],\n",
              "       [3.09506863e-01, 4.31928247e-01, 2.41312161e-01, 1.72526613e-02],\n",
              "       [2.85930336e-02, 2.03350455e-01, 7.57518470e-01, 1.05380453e-02],\n",
              "       [1.33804986e-02, 7.22826421e-02, 9.07604575e-01, 6.73231203e-03],\n",
              "       [1.94475462e-03, 1.94907486e-01, 7.61792660e-01, 4.13551405e-02],\n",
              "       [1.07731186e-02, 8.41534436e-01, 1.02953792e-01, 4.47386205e-02],\n",
              "       [2.49537802e-03, 9.82519388e-01, 1.32842474e-02, 1.70106150e-03],\n",
              "       [3.50699015e-03, 2.32242886e-03, 9.90877926e-01, 3.29258852e-03],\n",
              "       [3.65704834e-01, 1.08037405e-02, 4.47973669e-01, 1.75517783e-01],\n",
              "       [6.25868747e-03, 9.71488655e-02, 8.76607716e-01, 1.99847762e-02],\n",
              "       [8.04669876e-03, 1.83197796e-01, 8.02367926e-01, 6.38761325e-03],\n",
              "       [2.64442623e-01, 1.58036098e-01, 2.77584434e-01, 2.99936771e-01],\n",
              "       [4.41714044e-04, 1.08536903e-03, 9.97719467e-01, 7.53466564e-04],\n",
              "       [9.99293685e-01, 3.66304375e-05, 4.32099070e-04, 2.37635133e-04],\n",
              "       [2.65396778e-02, 7.04424620e-01, 2.58775413e-01, 1.02602560e-02],\n",
              "       [5.81579888e-03, 3.43698524e-02, 9.28105295e-01, 3.17090191e-02],\n",
              "       [3.53615373e-01, 6.34921610e-01, 3.83449160e-03, 7.62842782e-03],\n",
              "       [1.72767509e-02, 8.04809809e-01, 1.69545338e-01, 8.36815033e-03],\n",
              "       [2.38009170e-03, 4.19933094e-05, 9.97065842e-01, 5.12012281e-04],\n",
              "       [1.94255207e-02, 6.41180277e-01, 2.42872685e-02, 3.15106958e-01],\n",
              "       [5.40407281e-03, 6.00390427e-04, 9.92335856e-01, 1.65973604e-03],\n",
              "       [3.77414465e-01, 6.74800873e-02, 5.47238231e-01, 7.86719471e-03],\n",
              "       [1.50110379e-01, 1.79462582e-02, 8.14507306e-01, 1.74360238e-02],\n",
              "       [2.30541616e-03, 9.93849099e-01, 1.66729814e-03, 2.17823847e-03],\n",
              "       [1.60947219e-02, 2.84385048e-02, 9.50186670e-01, 5.28010353e-03],\n",
              "       [1.11508943e-01, 4.12326157e-01, 4.66038853e-01, 1.01261232e-02],\n",
              "       [3.87890940e-03, 2.06627268e-02, 9.69253600e-01, 6.20470755e-03],\n",
              "       [8.65247380e-03, 5.07224917e-01, 4.28804666e-01, 5.53179011e-02],\n",
              "       [9.86338198e-01, 6.87157735e-03, 4.82863234e-03, 1.96168828e-03],\n",
              "       [4.71695364e-02, 5.81199909e-03, 8.93721819e-01, 5.32966554e-02],\n",
              "       [3.53615373e-01, 6.34921610e-01, 3.83449160e-03, 7.62842782e-03],\n",
              "       [5.17853722e-03, 2.57859919e-02, 9.62137341e-01, 6.89812750e-03],\n",
              "       [5.98669722e-05, 6.15610552e-05, 9.99503493e-01, 3.75101285e-04],\n",
              "       [1.83499567e-02, 5.29005706e-01, 4.44503486e-01, 8.14084150e-03],\n",
              "       [5.92525676e-03, 6.30794764e-01, 3.52690041e-01, 1.05898976e-02],\n",
              "       [2.86550913e-02, 9.42349970e-01, 1.73132308e-02, 1.16817234e-02],\n",
              "       [3.03327758e-02, 2.09400430e-01, 1.13416962e-01, 6.46849811e-01],\n",
              "       [2.41810352e-01, 1.09095760e-01, 6.16540968e-01, 3.25529128e-02],\n",
              "       [3.27962963e-03, 4.93336702e-04, 1.80806510e-05, 9.96209025e-01],\n",
              "       [8.72278120e-03, 1.18158467e-03, 9.85165000e-01, 4.93068201e-03],\n",
              "       [1.11301178e-02, 1.58702664e-03, 9.83754218e-01, 3.52862314e-03],\n",
              "       [2.44621802e-02, 9.22649980e-01, 4.86657768e-02, 4.22206847e-03],\n",
              "       [5.67029677e-02, 6.83589876e-01, 2.51886874e-01, 7.82032125e-03],\n",
              "       [7.29286158e-03, 9.52134669e-01, 3.80683355e-02, 2.50416296e-03],\n",
              "       [5.51994483e-04, 8.45001545e-04, 9.97796297e-01, 8.06724478e-04],\n",
              "       [3.75382304e-02, 9.16252851e-01, 2.38766950e-02, 2.23322269e-02],\n",
              "       [2.38695294e-01, 9.86938626e-02, 6.52038932e-01, 1.05719287e-02],\n",
              "       [9.68027055e-01, 8.38763174e-03, 2.19260994e-02, 1.65920379e-03],\n",
              "       [5.37722260e-02, 2.25094929e-02, 8.50650966e-01, 7.30673298e-02],\n",
              "       [2.63908841e-02, 3.91018569e-01, 5.74188113e-01, 8.40239227e-03],\n",
              "       [2.70515867e-02, 5.85173862e-03, 9.61529672e-01, 5.56702446e-03],\n",
              "       [6.24420762e-04, 9.97220874e-01, 1.03223766e-03, 1.12238759e-03],\n",
              "       [1.33603141e-02, 7.30656236e-02, 9.06835854e-01, 6.73816353e-03],\n",
              "       [7.00007007e-03, 9.45617631e-02, 8.93693745e-01, 4.74438909e-03],\n",
              "       [9.94397640e-01, 1.21255801e-03, 2.80849566e-03, 1.58137886e-03],\n",
              "       [4.26149033e-02, 3.60668339e-02, 9.02640760e-01, 1.86775625e-02],\n",
              "       [3.33157586e-05, 1.95591085e-04, 9.99587715e-01, 1.83334210e-04],\n",
              "       [9.20529008e-01, 7.05938935e-02, 3.13795113e-04, 8.56321305e-03],\n",
              "       [1.68889819e-04, 9.99629140e-01, 5.94593366e-05, 1.42540623e-04],\n",
              "       [9.67154086e-01, 6.10063039e-03, 2.42969003e-02, 2.44837836e-03],\n",
              "       [5.93950390e-04, 9.98963475e-01, 1.50588734e-04, 2.91909964e-04],\n",
              "       [3.09296772e-02, 6.01676619e-03, 9.58883286e-01, 4.17028414e-03],\n",
              "       [9.02285576e-02, 3.30047458e-02, 8.53763521e-01, 2.30031908e-02],\n",
              "       [8.44489259e-04, 2.45795539e-03, 9.91432667e-01, 5.26494626e-03],\n",
              "       [2.25806475e-01, 1.08370587e-01, 6.52498007e-01, 1.33249480e-02],\n",
              "       [3.15654203e-02, 8.79955232e-01, 6.96564764e-02, 1.88229010e-02],\n",
              "       [6.98476374e-01, 8.79150163e-03, 2.84001380e-01, 8.73071328e-03],\n",
              "       [4.74609951e-05, 3.99855518e-04, 9.98948038e-01, 6.04683184e-04],\n",
              "       [3.22079309e-03, 6.85400069e-02, 9.23482358e-01, 4.75688139e-03],\n",
              "       [4.95166844e-03, 6.23222664e-02, 9.28463161e-01, 4.26288275e-03],\n",
              "       [5.45974448e-03, 9.46482718e-01, 4.45802882e-02, 3.47724953e-03],\n",
              "       [4.60448326e-04, 2.30622012e-03, 9.96166110e-01, 1.06722012e-03]],\n",
              "      dtype=float32)"
            ]
          },
          "execution_count": 17,
          "metadata": {},
          "output_type": "execute_result"
        }
      ],
      "source": [
        "y_pred"
      ]
    },
    {
      "cell_type": "code",
      "execution_count": 18,
      "metadata": {},
      "outputs": [
        {
          "data": {
            "text/plain": [
              "array([[0., 0., 0.]])"
            ]
          },
          "execution_count": 18,
          "metadata": {},
          "output_type": "execute_result"
        }
      ],
      "source": [
        "np.zeros((1,3))\n"
      ]
    },
    {
      "cell_type": "code",
      "execution_count": 19,
      "metadata": {},
      "outputs": [],
      "source": [
        "y_pred_new = []\n",
        "for i  in y_pred : \n",
        "    y_pred_new.append(i.argmax(axis=0))"
      ]
    },
    {
      "cell_type": "code",
      "execution_count": 20,
      "metadata": {},
      "outputs": [],
      "source": [
        "y_round = y_pred_new"
      ]
    },
    {
      "cell_type": "code",
      "execution_count": 21,
      "metadata": {},
      "outputs": [
        {
          "name": "stdout",
          "output_type": "stream",
          "text": [
            "[[[164  18]\n",
            "  [ 31   9]]\n",
            "\n",
            " [[ 90  42]\n",
            "  [ 56  34]]\n",
            "\n",
            " [[ 80  58]\n",
            "  [ 33  51]]\n",
            "\n",
            " [[206   8]\n",
            "  [  6   2]]]\n"
          ]
        }
      ],
      "source": [
        "from sklearn.metrics import multilabel_confusion_matrix\n",
        "\n",
        "print(multilabel_confusion_matrix(y_test,y_round))"
      ]
    },
    {
      "cell_type": "code",
      "execution_count": 22,
      "metadata": {},
      "outputs": [
        {
          "name": "stdout",
          "output_type": "stream",
          "text": [
            "precision: [0.33333333 0.44736842 0.46788991 0.2       ]\n",
            "recall: [0.225      0.37777778 0.60714286 0.25      ]\n",
            "fscore: [0.26865672 0.40963855 0.52849741 0.22222222]\n",
            "support: [40 90 84  8]\n"
          ]
        }
      ],
      "source": [
        "from sklearn.metrics import precision_recall_fscore_support as score\n",
        "precision, recall, fscore, support = score(y_test, y_round)\n",
        "\n",
        "print('precision: {}'.format(precision))\n",
        "print('recall: {}'.format(recall))\n",
        "print('fscore: {}'.format(fscore))\n",
        "print('support: {}'.format(support))"
      ]
    },
    {
      "cell_type": "code",
      "execution_count": 24,
      "metadata": {},
      "outputs": [],
      "source": [
        "from sklearn.metrics import multilabel_confusion_matrix , accuracy_score\n",
        "import matplotlib.pyplot as plt \n",
        "\n",
        "mx = multilabel_confusion_matrix(y_test,y_pred_new)\n",
        "acc = accuracy_score(y_test,y_round)"
      ]
    },
    {
      "cell_type": "code",
      "execution_count": 25,
      "metadata": {},
      "outputs": [
        {
          "data": {
            "text/plain": [
              "0.43243243243243246"
            ]
          },
          "execution_count": 25,
          "metadata": {},
          "output_type": "execute_result"
        }
      ],
      "source": [
        "acc"
      ]
    },
    {
      "cell_type": "code",
      "execution_count": 26,
      "metadata": {},
      "outputs": [
        {
          "data": {
            "text/plain": [
              "array([[[164,  18],\n",
              "        [ 31,   9]],\n",
              "\n",
              "       [[ 90,  42],\n",
              "        [ 56,  34]],\n",
              "\n",
              "       [[ 80,  58],\n",
              "        [ 33,  51]],\n",
              "\n",
              "       [[206,   8],\n",
              "        [  6,   2]]])"
            ]
          },
          "execution_count": 26,
          "metadata": {},
          "output_type": "execute_result"
        },
        {
          "ename": "",
          "evalue": "",
          "output_type": "error",
          "traceback": [
            "\u001b[1;31mThe Kernel crashed while executing code in the the current cell or a previous cell. Please review the code in the cell(s) to identify a possible cause of the failure. Click <a href='https://aka.ms/vscodeJupyterKernelCrash'>here</a> for more info. View Jupyter <a href='command:jupyter.viewOutput'>log</a> for further details."
          ]
        }
      ],
      "source": [
        "mx"
      ]
    },
    {
      "cell_type": "code",
      "execution_count": null,
      "metadata": {},
      "outputs": [],
      "source": [
        "import itertools\n",
        "def plot_confusion_matrix(cm, classes,\n",
        "                          normalize=False,\n",
        "                          title='Confusion matrix',\n",
        "                          cmap=plt.cm.get_cmap(\"Blues\")):\n",
        "\n",
        "    if normalize:\n",
        "        cm = cm.astype('float') / cm.sum(axis=1)[:, np.newaxis]\n",
        "\n",
        "    plt.imshow(cm, interpolation='nearest', cmap=cmap)\n",
        "    plt.title(title)\n",
        "    plt.colorbar()\n",
        "    tick_marks = np.arange(len(classes))\n",
        "    plt.xticks(tick_marks, classes, rotation=45)\n",
        "    plt.yticks(tick_marks, classes)\n",
        "\n",
        "    fmt = '.2f' if normalize else 'd'\n",
        "    thresh = cm.max() / 2.\n",
        "    for i, j in itertools.product(range(cm.shape[0]), range(cm.shape[1])):\n",
        "        plt.text(j, i, format(cm[i, j], fmt),\n",
        "                 horizontalalignment=\"center\",\n",
        "                 color=\"white\" if cm[i, j] > thresh else \"black\")\n",
        "\n",
        "    plt.tight_layout()\n",
        "    plt.ylabel('True label')\n",
        "    plt.xlabel('Predicted label')"
      ]
    },
    {
      "cell_type": "code",
      "execution_count": null,
      "metadata": {},
      "outputs": [
        {
          "data": {
            "image/png": "[encoded data removed]",
            "text/plain": [
              "<Figure size 432x288 with 2 Axes>"
            ]
          },
          "metadata": {
            "needs_background": "light"
          },
          "output_type": "display_data"
        }
      ],
      "source": [
        "plot_confusion_matrix(mx[0],['0','[2,3]'])"
      ]
    },
    {
      "cell_type": "code",
      "execution_count": null,
      "metadata": {},
      "outputs": [
        {
          "data": {
            "image/png": "[encoded data removed]",
            "text/plain": [
              "<Figure size 432x288 with 2 Axes>"
            ]
          },
          "metadata": {
            "needs_background": "light"
          },
          "output_type": "display_data"
        }
      ],
      "source": [
        "plot_confusion_matrix(mx[0],['0','[1,3]'])"
      ]
    },
    {
      "cell_type": "code",
      "execution_count": null,
      "metadata": {},
      "outputs": [
        {
          "data": {
            "image/png": "[encoded data removed]",
            "text/plain": [
              "<Figure size 432x288 with 2 Axes>"
            ]
          },
          "metadata": {
            "needs_background": "light"
          },
          "output_type": "display_data"
        }
      ],
      "source": [
        "plot_confusion_matrix(mx[2],['0','[1,2]'])"
      ]
    },
    {
      "cell_type": "code",
      "execution_count": null,
      "metadata": {},
      "outputs": [
        {
          "ename": "ValueError",
          "evalue": "Classification metrics can't handle a mix of multilabel-indicator and continuous-multioutput targets",
          "output_type": "error",
          "traceback": [
            "\u001b[0;31m---------------------------------------------------------------------------\u001b[0m",
            "\u001b[0;31mValueError\u001b[0m                                Traceback (most recent call last)",
            "\u001b[1;32m/home/computer/furcation-grading/Furcation.ipynb Cell 42\u001b[0m in \u001b[0;36m<cell line: 6>\u001b[0;34m()\u001b[0m\n\u001b[1;32m      <a href='vscode-notebook-cell:/home/computer/furcation-grading/Furcation.ipynb#X55sZmlsZQ%3D%3D?line=2'>3</a>\u001b[0m \u001b[39mimport\u001b[39;00m \u001b[39mseaborn\u001b[39;00m \u001b[39mas\u001b[39;00m \u001b[39msns\u001b[39;00m\n\u001b[1;32m      <a href='vscode-notebook-cell:/home/computer/furcation-grading/Furcation.ipynb#X55sZmlsZQ%3D%3D?line=4'>5</a>\u001b[0m classes\u001b[39m=\u001b[39m[\u001b[39m'\u001b[39m\u001b[39mGrade 0\u001b[39m\u001b[39m'\u001b[39m, \u001b[39m'\u001b[39m\u001b[39mGrade 1\u001b[39m\u001b[39m'\u001b[39m, \u001b[39m'\u001b[39m\u001b[39mGrade 2\u001b[39m\u001b[39m'\u001b[39m]\n\u001b[0;32m----> <a href='vscode-notebook-cell:/home/computer/furcation-grading/Furcation.ipynb#X55sZmlsZQ%3D%3D?line=5'>6</a>\u001b[0m CMatrix \u001b[39m=\u001b[39m pd\u001b[39m.\u001b[39mDataFrame(confusion_matrix(y_test, y_pred), columns \u001b[39m=\u001b[39m classes, index \u001b[39m=\u001b[39m classes)\n\u001b[1;32m      <a href='vscode-notebook-cell:/home/computer/furcation-grading/Furcation.ipynb#X55sZmlsZQ%3D%3D?line=7'>8</a>\u001b[0m plt\u001b[39m.\u001b[39mfigure(figsize\u001b[39m=\u001b[39m(\u001b[39m10\u001b[39m, \u001b[39m6\u001b[39m))\n\u001b[1;32m      <a href='vscode-notebook-cell:/home/computer/furcation-grading/Furcation.ipynb#X55sZmlsZQ%3D%3D?line=8'>9</a>\u001b[0m ax \u001b[39m=\u001b[39m sns\u001b[39m.\u001b[39mheatmap(CMatrix, annot \u001b[39m=\u001b[39m \u001b[39mTrue\u001b[39;00m, fmt \u001b[39m=\u001b[39m \u001b[39m'\u001b[39m\u001b[39mg\u001b[39m\u001b[39m'\u001b[39m ,vmin \u001b[39m=\u001b[39m \u001b[39m0\u001b[39m, vmax \u001b[39m=\u001b[39m \u001b[39m250\u001b[39m,cmap \u001b[39m=\u001b[39m \u001b[39m'\u001b[39m\u001b[39mBlues\u001b[39m\u001b[39m'\u001b[39m)\n",
            "File \u001b[0;32m~/anaconda3/envs/mcgan/lib/python3.8/site-packages/sklearn/metrics/_classification.py:317\u001b[0m, in \u001b[0;36mconfusion_matrix\u001b[0;34m(y_true, y_pred, labels, sample_weight, normalize)\u001b[0m\n\u001b[1;32m    232\u001b[0m \u001b[39mdef\u001b[39;00m \u001b[39mconfusion_matrix\u001b[39m(\n\u001b[1;32m    233\u001b[0m     y_true, y_pred, \u001b[39m*\u001b[39m, labels\u001b[39m=\u001b[39m\u001b[39mNone\u001b[39;00m, sample_weight\u001b[39m=\u001b[39m\u001b[39mNone\u001b[39;00m, normalize\u001b[39m=\u001b[39m\u001b[39mNone\u001b[39;00m\n\u001b[1;32m    234\u001b[0m ):\n\u001b[1;32m    235\u001b[0m \u001b[39m    \u001b[39m\u001b[39m\"\"\"Compute confusion matrix to evaluate the accuracy of a classification.\u001b[39;00m\n\u001b[1;32m    236\u001b[0m \n\u001b[1;32m    237\u001b[0m \u001b[39m    By definition a confusion matrix :math:`C` is such that :math:`C_{i, j}`\u001b[39;00m\n\u001b[0;32m   (...)\u001b[0m\n\u001b[1;32m    315\u001b[0m \u001b[39m    (0, 2, 1, 1)\u001b[39;00m\n\u001b[1;32m    316\u001b[0m \u001b[39m    \"\"\"\u001b[39;00m\n\u001b[0;32m--> 317\u001b[0m     y_type, y_true, y_pred \u001b[39m=\u001b[39m _check_targets(y_true, y_pred)\n\u001b[1;32m    318\u001b[0m     \u001b[39mif\u001b[39;00m y_type \u001b[39mnot\u001b[39;00m \u001b[39min\u001b[39;00m (\u001b[39m\"\u001b[39m\u001b[39mbinary\u001b[39m\u001b[39m\"\u001b[39m, \u001b[39m\"\u001b[39m\u001b[39mmulticlass\u001b[39m\u001b[39m\"\u001b[39m):\n\u001b[1;32m    319\u001b[0m         \u001b[39mraise\u001b[39;00m \u001b[39mValueError\u001b[39;00m(\u001b[39m\"\u001b[39m\u001b[39m%s\u001b[39;00m\u001b[39m is not supported\u001b[39m\u001b[39m\"\u001b[39m \u001b[39m%\u001b[39m y_type)\n",
            "File \u001b[0;32m~/anaconda3/envs/mcgan/lib/python3.8/site-packages/sklearn/metrics/_classification.py:95\u001b[0m, in \u001b[0;36m_check_targets\u001b[0;34m(y_true, y_pred)\u001b[0m\n\u001b[1;32m     92\u001b[0m     y_type \u001b[39m=\u001b[39m {\u001b[39m\"\u001b[39m\u001b[39mmulticlass\u001b[39m\u001b[39m\"\u001b[39m}\n\u001b[1;32m     94\u001b[0m \u001b[39mif\u001b[39;00m \u001b[39mlen\u001b[39m(y_type) \u001b[39m>\u001b[39m \u001b[39m1\u001b[39m:\n\u001b[0;32m---> 95\u001b[0m     \u001b[39mraise\u001b[39;00m \u001b[39mValueError\u001b[39;00m(\n\u001b[1;32m     96\u001b[0m         \u001b[39m\"\u001b[39m\u001b[39mClassification metrics can\u001b[39m\u001b[39m'\u001b[39m\u001b[39mt handle a mix of \u001b[39m\u001b[39m{0}\u001b[39;00m\u001b[39m and \u001b[39m\u001b[39m{1}\u001b[39;00m\u001b[39m targets\u001b[39m\u001b[39m\"\u001b[39m\u001b[39m.\u001b[39mformat(\n\u001b[1;32m     97\u001b[0m             type_true, type_pred\n\u001b[1;32m     98\u001b[0m         )\n\u001b[1;32m     99\u001b[0m     )\n\u001b[1;32m    101\u001b[0m \u001b[39m# We can't have more than one value on y_type => The set is no more needed\u001b[39;00m\n\u001b[1;32m    102\u001b[0m y_type \u001b[39m=\u001b[39m y_type\u001b[39m.\u001b[39mpop()\n",
            "\u001b[0;31mValueError\u001b[0m: Classification metrics can't handle a mix of multilabel-indicator and continuous-multioutput targets"
          ]
        }
      ],
      "source": [
        "import pandas as pd\n",
        "from sklearn.metrics import confusion_matrix\n",
        "import seaborn as sns\n",
        "\n",
        "classes=['Grade 0', 'Grade 1', 'Grade 2']\n",
        "CMatrix = pd.DataFrame(confusion_matrix(y_test, y_pred), columns = classes, index = classes)\n",
        "\n",
        "plt.figure(figsize=(10, 6))\n",
        "ax = sns.heatmap(CMatrix, annot = True, fmt = 'g' ,vmin = 0, vmax = 250,cmap = 'Blues')\n",
        "ax.set_xlabel('Predicted',fontsize = 14,weight = 'bold')\n",
        "ax.set_xticklabels(ax.get_xticklabels(),rotation =0);\n",
        "ax.set_ylabel('Actual',fontsize = 14,weight = 'bold') \n",
        "ax.set_yticklabels(ax.get_yticklabels(),rotation =0);\n",
        "ax.set_title('Confusion Matrix - Test Set', fontsize = 19, weight = 'bold', pad=20);\n",
        "plt.savefig(\"confusion_matrix.png\")"
      ]
    },
    {
      "cell_type": "code",
      "execution_count": null,
      "metadata": {},
      "outputs": [
        {
          "name": "stdout",
          "output_type": "stream",
          "text": [
            "Requirement already satisfied: wandb in /home/computer/anaconda3/envs/mcgan/lib/python3.8/site-packages (0.12.17)\n",
            "Requirement already satisfied: setuptools in /home/computer/anaconda3/envs/mcgan/lib/python3.8/site-packages (from wandb) (58.0.4)\n",
            "Requirement already satisfied: GitPython>=1.0.0 in /home/computer/anaconda3/envs/mcgan/lib/python3.8/site-packages (from wandb) (3.1.27)\n",
            "Requirement already satisfied: shortuuid>=0.5.0 in /home/computer/anaconda3/envs/mcgan/lib/python3.8/site-packages (from wandb) (1.0.9)\n",
            "Requirement already satisfied: psutil>=5.0.0 in /home/computer/anaconda3/envs/mcgan/lib/python3.8/site-packages (from wandb) (5.9.0)\n",
            "Requirement already satisfied: requests<3,>=2.0.0 in /home/computer/anaconda3/envs/mcgan/lib/python3.8/site-packages (from wandb) (2.27.1)\n",
            "Requirement already satisfied: PyYAML in /home/computer/anaconda3/envs/mcgan/lib/python3.8/site-packages (from wandb) (5.4.1)\n",
            "Requirement already satisfied: Click!=8.0.0,>=7.0 in /home/computer/anaconda3/envs/mcgan/lib/python3.8/site-packages (from wandb) (8.1.3)\n",
            "Requirement already satisfied: setproctitle in /home/computer/anaconda3/envs/mcgan/lib/python3.8/site-packages (from wandb) (1.2.3)\n",
            "Requirement already satisfied: protobuf<4.0dev,>=3.12.0 in /home/computer/.local/lib/python3.8/site-packages (from wandb) (3.20.1)\n",
            "Requirement already satisfied: python-dateutil>=2.6.1 in /home/computer/.local/lib/python3.8/site-packages (from wandb) (2.8.2)\n",
            "Requirement already satisfied: docker-pycreds>=0.4.0 in /home/computer/anaconda3/envs/mcgan/lib/python3.8/site-packages (from wandb) (0.4.0)\n",
            "Collecting six>=1.13.0\n",
            "  Using cached six-1.16.0-py2.py3-none-any.whl (11 kB)\n",
            "Requirement already satisfied: sentry-sdk>=1.0.0 in /home/computer/anaconda3/envs/mcgan/lib/python3.8/site-packages (from wandb) (1.5.12)\n",
            "Requirement already satisfied: promise<3,>=2.0 in /home/computer/anaconda3/envs/mcgan/lib/python3.8/site-packages (from wandb) (2.3)\n",
            "Requirement already satisfied: pathtools in /home/computer/anaconda3/envs/mcgan/lib/python3.8/site-packages (from wandb) (0.1.2)\n",
            "Requirement already satisfied: gitdb<5,>=4.0.1 in /home/computer/anaconda3/envs/mcgan/lib/python3.8/site-packages (from GitPython>=1.0.0->wandb) (4.0.9)\n",
            "Requirement already satisfied: smmap<6,>=3.0.1 in /home/computer/anaconda3/envs/mcgan/lib/python3.8/site-packages (from gitdb<5,>=4.0.1->GitPython>=1.0.0->wandb) (5.0.0)\n",
            "Requirement already satisfied: urllib3<1.27,>=1.21.1 in /home/computer/anaconda3/envs/mcgan/lib/python3.8/site-packages (from requests<3,>=2.0.0->wandb) (1.26.9)\n",
            "Requirement already satisfied: charset-normalizer~=2.0.0 in /home/computer/anaconda3/envs/mcgan/lib/python3.8/site-packages (from requests<3,>=2.0.0->wandb) (2.0.12)\n",
            "Requirement already satisfied: idna<4,>=2.5 in /home/computer/anaconda3/envs/mcgan/lib/python3.8/site-packages (from requests<3,>=2.0.0->wandb) (3.3)\n",
            "Requirement already satisfied: certifi>=2017.4.17 in /home/computer/anaconda3/envs/mcgan/lib/python3.8/site-packages (from requests<3,>=2.0.0->wandb) (2022.6.15)\n",
            "Installing collected packages: six\n",
            "  Attempting uninstall: six\n",
            "    Found existing installation: six 1.12.0\n",
            "    Uninstalling six-1.12.0:\n",
            "      Successfully uninstalled six-1.12.0\n",
            "Successfully installed six-1.16.0\n",
            "Note: you may need to restart the kernel to use updated packages.\n"
          ]
        }
      ],
      "source": [
        "pip install wandb"
      ]
    },
    {
      "cell_type": "code",
      "execution_count": null,
      "metadata": {},
      "outputs": [
        {
          "name": "stderr",
          "output_type": "stream",
          "text": [
            "Failed to detect the name of this notebook, you can set it manually with the WANDB_NOTEBOOK_NAME environment variable to enable code saving.\n",
            "\u001b[34m\u001b[1mwandb\u001b[0m: Currently logged in as: \u001b[33mchiragtech\u001b[0m. Use \u001b[1m`wandb login --relogin`\u001b[0m to force relogin\n"
          ]
        },
        {
          "data": {
            "text/html": [
              "wandb version 0.14.0 is available!  To upgrade, please run:\n",
              " $ pip install wandb --upgrade"
            ],
            "text/plain": [
              "<IPython.core.display.HTML object>"
            ]
          },
          "metadata": {},
          "output_type": "display_data"
        },
        {
          "data": {
            "text/html": [
              "Tracking run with wandb version 0.12.17"
            ],
            "text/plain": [
              "<IPython.core.display.HTML object>"
            ]
          },
          "metadata": {},
          "output_type": "display_data"
        },
        {
          "data": {
            "text/html": [
              "Run data is saved locally in <code>/home/computer/furcation-grading/wandb/run-20230331_150837-1h249mwp</code>"
            ],
            "text/plain": [
              "<IPython.core.display.HTML object>"
            ]
          },
          "metadata": {},
          "output_type": "display_data"
        },
        {
          "data": {
            "text/html": [
              "Syncing run <strong><a href=\"https://wandb.ai/chiragtech/my-awesome-project/runs/1h249mwp\" target=\"_blank\">dark-donkey-1</a></strong> to <a href=\"https://wandb.ai/chiragtech/my-awesome-project\" target=\"_blank\">Weights & Biases</a> (<a href=\"https://wandb.me/run\" target=\"_blank\">docs</a>)<br/>"
            ],
            "text/plain": [
              "<IPython.core.display.HTML object>"
            ]
          },
          "metadata": {},
          "output_type": "display_data"
        },
        {
          "data": {
            "text/html": [
              "Waiting for W&B process to finish... <strong style=\"color:green\">(success).</strong>"
            ],
            "text/plain": [
              "<IPython.core.display.HTML object>"
            ]
          },
          "metadata": {},
          "output_type": "display_data"
        },
        {
          "data": {
            "application/vnd.jupyter.widget-view+json": {
              "model_id": "9a8f27f267e145678e1db51cd2fa917c",
              "version_major": 2,
              "version_minor": 0
            },
            "text/plain": [
              "VBox(children=(Label(value='0.000 MB of 0.000 MB uploaded (0.000 MB deduped)\\r'), FloatProgress(value=1.0, max…"
            ]
          },
          "metadata": {},
          "output_type": "display_data"
        },
        {
          "data": {
            "text/html": [
              "<style>\n",
              "    table.wandb td:nth-child(1) { padding: 0 10px; text-align: left ; width: auto;} td:nth-child(2) {text-align: left ; width: 100%}\n",
              "    .wandb-row { display: flex; flex-direction: row; flex-wrap: wrap; justify-content: flex-start; width: 100% }\n",
              "    .wandb-col { display: flex; flex-direction: column; flex-basis: 100%; flex: 1; padding: 10px; }\n",
              "    </style>\n",
              "<div class=\"wandb-row\"><div class=\"wandb-col\"><h3>Run history:</h3><br/><table class=\"wandb\"><tr><td>acc</td><td>▂▁▅▇▇▇▇█</td></tr><tr><td>loss</td><td>█▃▂▃▃▁▂▁</td></tr></table><br/></div><div class=\"wandb-col\"><h3>Run summary:</h3><br/><table class=\"wandb\"><tr><td>acc</td><td>0.94266</td></tr><tr><td>loss</td><td>0.07427</td></tr></table><br/></div></div>"
            ],
            "text/plain": [
              "<IPython.core.display.HTML object>"
            ]
          },
          "metadata": {},
          "output_type": "display_data"
        },
        {
          "data": {
            "text/html": [
              "Synced <strong style=\"color:#cdcd00\">dark-donkey-1</strong>: <a href=\"https://wandb.ai/chiragtech/my-awesome-project/runs/1h249mwp\" target=\"_blank\">https://wandb.ai/chiragtech/my-awesome-project/runs/1h249mwp</a><br/>Synced 5 W&B file(s), 0 media file(s), 0 artifact file(s) and 0 other file(s)"
            ],
            "text/plain": [
              "<IPython.core.display.HTML object>"
            ]
          },
          "metadata": {},
          "output_type": "display_data"
        },
        {
          "data": {
            "text/html": [
              "Find logs at: <code>./wandb/run-20230331_150837-1h249mwp/logs</code>"
            ],
            "text/plain": [
              "<IPython.core.display.HTML object>"
            ]
          },
          "metadata": {},
          "output_type": "display_data"
        }
      ],
      "source": []
    },
    {
      "cell_type": "code",
      "execution_count": null,
      "metadata": {},
      "outputs": [
        {
          "data": {
            "text/html": [
              "wandb version 0.14.0 is available!  To upgrade, please run:\n",
              " $ pip install wandb --upgrade"
            ],
            "text/plain": [
              "<IPython.core.display.HTML object>"
            ]
          },
          "metadata": {},
          "output_type": "display_data"
        },
        {
          "data": {
            "text/html": [
              "Tracking run with wandb version 0.12.17"
            ],
            "text/plain": [
              "<IPython.core.display.HTML object>"
            ]
          },
          "metadata": {},
          "output_type": "display_data"
        },
        {
          "data": {
            "text/html": [
              "Run data is saved locally in <code>/home/computer/furcation-grading/wandb/run-20230331_152039-3b44ch7l</code>"
            ],
            "text/plain": [
              "<IPython.core.display.HTML object>"
            ]
          },
          "metadata": {},
          "output_type": "display_data"
        },
        {
          "data": {
            "text/html": [
              "Syncing run <strong><a href=\"https://wandb.ai/chiragtech/Furcation-grading/runs/3b44ch7l\" target=\"_blank\">clean-pond-4</a></strong> to <a href=\"https://wandb.ai/chiragtech/Furcation-grading\" target=\"_blank\">Weights & Biases</a> (<a href=\"https://wandb.me/run\" target=\"_blank\">docs</a>)<br/>"
            ],
            "text/plain": [
              "<IPython.core.display.HTML object>"
            ]
          },
          "metadata": {},
          "output_type": "display_data"
        },
        {
          "data": {
            "text/html": [
              "Waiting for W&B process to finish... <strong style=\"color:green\">(success).</strong>"
            ],
            "text/plain": [
              "<IPython.core.display.HTML object>"
            ]
          },
          "metadata": {},
          "output_type": "display_data"
        },
        {
          "data": {
            "application/vnd.jupyter.widget-view+json": {
              "model_id": "1674386cc9d04e40933906af03795f8f",
              "version_major": 2,
              "version_minor": 0
            },
            "text/plain": [
              "VBox(children=(Label(value='0.000 MB of 0.000 MB uploaded (0.000 MB deduped)\\r'), FloatProgress(value=1.0, max…"
            ]
          },
          "metadata": {},
          "output_type": "display_data"
        },
        {
          "data": {
            "text/html": [
              "<style>\n",
              "    table.wandb td:nth-child(1) { padding: 0 10px; text-align: left ; width: auto;} td:nth-child(2) {text-align: left ; width: 100%}\n",
              "    .wandb-row { display: flex; flex-direction: row; flex-wrap: wrap; justify-content: flex-start; width: 100% }\n",
              "    .wandb-col { display: flex; flex-direction: column; flex-basis: 100%; flex: 1; padding: 10px; }\n",
              "    </style>\n",
              "<div class=\"wandb-row\"><div class=\"wandb-col\"><h3>Run history:</h3><br/><table class=\"wandb\"><tr><td>acc</td><td>▁▆██▇▇██████████████████████████████████</td></tr><tr><td>loss</td><td>█▄▂▁▂▂▁▂▂▁▁▁▁▁▁▁▁▁▁▁▁▁▁▁▁▁▁▁▁▁▁▁▁▁▁▁▁▁▁▁</td></tr></table><br/></div><div class=\"wandb-col\"><h3>Run summary:</h3><br/><table class=\"wandb\"><tr><td>acc</td><td>0.98676</td></tr><tr><td>loss</td><td>0.01503</td></tr></table><br/></div></div>"
            ],
            "text/plain": [
              "<IPython.core.display.HTML object>"
            ]
          },
          "metadata": {},
          "output_type": "display_data"
        },
        {
          "data": {
            "text/html": [
              "Synced <strong style=\"color:#cdcd00\">clean-pond-4</strong>: <a href=\"https://wandb.ai/chiragtech/Furcation-grading/runs/3b44ch7l\" target=\"_blank\">https://wandb.ai/chiragtech/Furcation-grading/runs/3b44ch7l</a><br/>Synced 5 W&B file(s), 0 media file(s), 0 artifact file(s) and 0 other file(s)"
            ],
            "text/plain": [
              "<IPython.core.display.HTML object>"
            ]
          },
          "metadata": {},
          "output_type": "display_data"
        },
        {
          "data": {
            "text/html": [
              "Find logs at: <code>./wandb/run-20230331_152039-3b44ch7l/logs</code>"
            ],
            "text/plain": [
              "<IPython.core.display.HTML object>"
            ]
          },
          "metadata": {},
          "output_type": "display_data"
        },
        {
          "ename": "",
          "evalue": "",
          "output_type": "error",
          "traceback": [
            "\u001b[1;31mThe Kernel crashed while executing code in the the current cell or a previous cell. Please review the code in the cell(s) to identify a possible cause of the failure. Click <a href='https://aka.ms/vscodeJupyterKernelCrash'>here</a> for more info. View Jupyter <a href='command:jupyter.viewOutput'>log</a> for further details."
          ]
        }
      ],
      "source": [
        "# start a new wandb run to track this script\n",
        "wandb.init(\n",
        "    # set the wandb project where this run will be logged\n",
        "    project=\"Furcation-grading\",\n",
        "    \n",
        "    # track hyperparameters and run metadata\n",
        "    config={\n",
        "    \"architecture\": \"InceptionV3\",\n",
        "    \"dataset\": \"X_train\",\n",
        "    'Dataset':\"X_train\",\n",
        "    \"epochs\": 100,\n",
        "    \"callbacks\":\"callbacks\",\n",
        "    \"optimizer\":\"Adam\",\n",
        "    \"learning_rate\":0.0001,\n",
        "    \"beta_1\":0.95,\n",
        "    'beta_2':0.9999,\n",
        "    'epsilon':1e-09,\n",
        "    'loss':'categorical_crossentropy'\n",
        "    }\n",
        ")\n",
        "\n",
        "# simulate training\n",
        "epochs = 100\n",
        "offset = random.random() / 5\n",
        "for epoch in range(2, epochs):\n",
        "    acc = 1 - 2 ** -epoch - random.random() / epoch - offset\n",
        "    loss = 2 ** -epoch + random.random() / epoch + offset\n",
        "    \n",
        "    # log metrics to wandb\n",
        "    wandb.log({\"acc\": acc, \"loss\": loss})\n",
        "    \n",
        "# [optional] finish the wandb run, necessary in notebooks\n",
        "wandb.finish()"
      ]
    },
    {
      "cell_type": "code",
      "execution_count": null,
      "metadata": {},
      "outputs": [
        {
          "name": "stdout",
          "output_type": "stream",
          "text": [
            "Collecting six\n",
            "  Using cached six-1.16.0-py2.py3-none-any.whl (11 kB)\n",
            "Installing collected packages: six\n",
            "Successfully installed six-1.16.0\n",
            "Note: you may need to restart the kernel to use updated packages.\n"
          ]
        }
      ],
      "source": [
        "pip install --ignore-installed six"
      ]
    },
    {
      "cell_type": "code",
      "execution_count": null,
      "metadata": {},
      "outputs": [],
      "source": []
    }
  ],
  "metadata": {
    "accelerator": "GPU",
    "colab": {
      "provenance": []
    },
    "gpuClass": "standard",
    "kernelspec": {
      "display_name": "Python 3.8.0 ('mcgan')",
      "language": "python",
      "name": "python3"
    },
    "language_info": {
      "codemirror_mode": {
        "name": "ipython",
        "version": 3
      },
      "file_extension": ".py",
      "mimetype": "text/x-python",
      "name": "python",
      "nbconvert_exporter": "python",
      "pygments_lexer": "ipython3",
      "version": "3.8.0"
    },
    "vscode": {
      "interpreter": {
        "hash": "e22f38cb9da9b17f6da823c5ec9c0d175fec9eb2b9358c92b511c195f015600b"
      }
    }
  },
  "nbformat": 4,
  "nbformat_minor": 0
}
